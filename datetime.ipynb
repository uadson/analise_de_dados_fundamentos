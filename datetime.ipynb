{
 "cells": [
  {
   "cell_type": "markdown",
   "metadata": {},
   "source": [
    "#### Trabalhando com o módulo datetime\n",
    "\n",
    "É um módulo que possibilita a manipulação de datas e horários em Python"
   ]
  },
  {
   "cell_type": "code",
   "execution_count": 1,
   "metadata": {},
   "outputs": [],
   "source": [
    "import datetime"
   ]
  },
  {
   "cell_type": "markdown",
   "metadata": {},
   "source": [
    "Data e Hora atuais"
   ]
  },
  {
   "cell_type": "code",
   "execution_count": 27,
   "metadata": {},
   "outputs": [
    {
     "name": "stdout",
     "output_type": "stream",
     "text": [
      "2020-11-07 19:00:31.253273\n"
     ]
    }
   ],
   "source": [
    "# na sequência: ano, mês, dia, hora, minutos, segundos, milisegundos\n",
    "agora = datetime.datetime.now()\n",
    "print(agora)"
   ]
  },
  {
   "cell_type": "markdown",
   "metadata": {},
   "source": [
    "Definindo Hora Manualmente"
   ]
  },
  {
   "cell_type": "code",
   "execution_count": 26,
   "metadata": {},
   "outputs": [
    {
     "name": "stdout",
     "output_type": "stream",
     "text": [
      "08:23:56\n"
     ]
    }
   ],
   "source": [
    "time = datetime.time(8, 23, 56)\n",
    "print(time)"
   ]
  },
  {
   "cell_type": "code",
   "execution_count": 11,
   "metadata": {},
   "outputs": [
    {
     "name": "stdout",
     "output_type": "stream",
     "text": [
      "Hora = 8\n",
      "Minutos = 23\n",
      "Segundos = 56\n",
      "Microsegundos = 0\n"
     ]
    }
   ],
   "source": [
    "print(f'Hora = {time.hour}')\n",
    "print(f'Minutos = {time.minute}')\n",
    "print(f'Segundos = {time.second}')\n",
    "print(f'Microsegundos = {time.microsecond}')"
   ]
  },
  {
   "cell_type": "code",
   "execution_count": 13,
   "metadata": {},
   "outputs": [
    {
     "name": "stdout",
     "output_type": "stream",
     "text": [
      "00:00:00\n"
     ]
    }
   ],
   "source": [
    "print(datetime.time.min)"
   ]
  },
  {
   "cell_type": "code",
   "execution_count": 25,
   "metadata": {},
   "outputs": [
    {
     "name": "stdout",
     "output_type": "stream",
     "text": [
      "2020-11-07\n"
     ]
    }
   ],
   "source": [
    "hoje = datetime.date.today()\n",
    "print(hoje)"
   ]
  },
  {
   "cell_type": "code",
   "execution_count": 19,
   "metadata": {},
   "outputs": [
    {
     "name": "stdout",
     "output_type": "stream",
     "text": [
      "2020-11-07\n",
      "ctime: Sat Nov  7 00:00:00 2020\n",
      "Ano: 2020\n",
      "Mês: 11\n",
      "Dia: 7\n"
     ]
    }
   ],
   "source": [
    "print(hoje)\n",
    "print(f'ctime: {hoje.ctime()}')\n",
    "print(f'Ano: {hoje.year}')\n",
    "print(f'Mês: {hoje.month}')\n",
    "print(f'Dia: {hoje.day}')"
   ]
  },
  {
   "cell_type": "code",
   "execution_count": 28,
   "metadata": {},
   "outputs": [
    {
     "name": "stdout",
     "output_type": "stream",
     "text": [
      "2016-11-07\n"
     ]
    }
   ],
   "source": [
    "dia1 = datetime.date(2016, 11, 7)\n",
    "print(dia1)"
   ]
  },
  {
   "cell_type": "code",
   "execution_count": 29,
   "metadata": {},
   "outputs": [
    {
     "name": "stdout",
     "output_type": "stream",
     "text": [
      "2020-11-07\n"
     ]
    }
   ],
   "source": [
    "dia2 = dia1.replace(year = 2020)\n",
    "print(dia2)"
   ]
  },
  {
   "cell_type": "code",
   "execution_count": 30,
   "metadata": {},
   "outputs": [
    {
     "name": "stdout",
     "output_type": "stream",
     "text": [
      "Estudo Python há: 1461 days, 0:00:00\n"
     ]
    }
   ],
   "source": [
    "# cálculo com datas\n",
    "print(f'Estudo Python há: {dia2 - dia1}')"
   ]
  },
  {
   "cell_type": "code",
   "execution_count": null,
   "metadata": {},
   "outputs": [],
   "source": []
  }
 ],
 "metadata": {
  "kernelspec": {
   "display_name": "Python 3",
   "language": "python",
   "name": "python3"
  },
  "language_info": {
   "codemirror_mode": {
    "name": "ipython",
    "version": 3
   },
   "file_extension": ".py",
   "mimetype": "text/x-python",
   "name": "python",
   "nbconvert_exporter": "python",
   "pygments_lexer": "ipython3",
   "version": "3.8.3"
  }
 },
 "nbformat": 4,
 "nbformat_minor": 4
}
