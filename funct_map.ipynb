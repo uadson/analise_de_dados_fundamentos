{
 "cells": [
  {
   "cell_type": "markdown",
   "metadata": {},
   "source": [
    "# MAP"
   ]
  },
  {
   "cell_type": "code",
   "execution_count": 17,
   "metadata": {},
   "outputs": [],
   "source": [
    "# Funções distintas\n",
    "\n",
    "def fahrenheit(T):\n",
    "    \"\"\"\n",
    "    Esta função recebe uma temperatura como parâmetro e a retorna em Fahrenheit\n",
    "    \"\"\"\n",
    "    return ((float(9)/5) * T + 32)\n",
    "\n",
    "def celsius(T):\n",
    "    \"\"\"\n",
    "    Esta função recebe uma temperatura como parâmetro e a retorna em Celsius\n",
    "    \"\"\"\n",
    "    return (float(5)/9) * (T - 32)"
   ]
  },
  {
   "cell_type": "code",
   "execution_count": 18,
   "metadata": {},
   "outputs": [
    {
     "name": "stdout",
     "output_type": "stream",
     "text": [
      "Fahrenheit: 77.0\n",
      "Celsius: -3.8888888888888893\n"
     ]
    }
   ],
   "source": [
    "#testando as funções\n",
    "T = 25.0\n",
    "\n",
    "print(f'Fahrenheit: {fahrenheit(T)}')\n",
    "print(f'Celsius: {celsius(T)}')"
   ]
  },
  {
   "cell_type": "code",
   "execution_count": 19,
   "metadata": {},
   "outputs": [],
   "source": [
    "# com a função map pode-se efetuar todos os cálculos de uma função sobre uma lista única com vários valores\n",
    "# exemplo: uma lista com vários números que serão convertidos para um tipo de temperatura\n",
    "# e retornará uma lista com os valores convertidos.\n",
    "valores = [0, 37.0, 54, 23, 72]"
   ]
  },
  {
   "cell_type": "code",
   "execution_count": 20,
   "metadata": {},
   "outputs": [
    {
     "data": {
      "text/plain": [
       "[32.0, 98.60000000000001, 129.2, 73.4, 161.6]"
      ]
     },
     "execution_count": 20,
     "metadata": {},
     "output_type": "execute_result"
    }
   ],
   "source": [
    "resultado = list(map(fahrenheit, valores))\n",
    "resultado"
   ]
  },
  {
   "cell_type": "code",
   "execution_count": 34,
   "metadata": {},
   "outputs": [
    {
     "name": "stdout",
     "output_type": "stream",
     "text": [
      "Valores: [10, 47, 4, 50, 71, 42, 40, 18, 84, 60]\n",
      "\n",
      "Fahrenheit:\n",
      "50.00\n",
      "116.60\n",
      "39.20\n",
      "122.00\n",
      "159.80\n",
      "107.60\n",
      "104.00\n",
      "64.40\n",
      "183.20\n",
      "140.00\n",
      "\n",
      "\n",
      "Celsius:\n",
      "-12.22\n",
      "8.33\n",
      "-15.56\n",
      "10.00\n",
      "21.67\n",
      "5.56\n",
      "4.44\n",
      "-7.78\n",
      "28.89\n",
      "15.56\n"
     ]
    }
   ],
   "source": [
    "# outro exemplo\n",
    "from random import randint\n",
    "\n",
    "# lista que armazenará os valores\n",
    "valores = []\n",
    "\n",
    "# loop for com uma sequência de 10 repetições\n",
    "for i in range(1, 11):\n",
    "    # variável num recebe um número aleatório entre 1 e 100 através do método randint\n",
    "    num = randint(1, 100)\n",
    "    # num é adicionado a lista valores através do método append\n",
    "    valores.append(num)\n",
    "\n",
    "\n",
    "# imprimindo a lista valores para saber quais valores foram adicionados a mesma\n",
    "print(f'Valores: {valores}')\n",
    "print()\n",
    "\n",
    "\n",
    "# resultado recebe uma lista com aplicação da função map sobre todos os valores\n",
    "resultado1 = list(map(fahrenheit, valores))\n",
    "resultado2 = list(map(celsius, valores))\n",
    "\n",
    "\n",
    "# loop for sobre a lista do resultado imprimindo cada valor convertido na sequência.\n",
    "print('Fahrenheit:')\n",
    "for item in resultado1:\n",
    "    print('{:.2f}'.format(item))\n",
    "    \n",
    "\n",
    "print('\\n\\nCelsius:')\n",
    "for item in resultado2:\n",
    "    print('{:.2f}'.format(item))"
   ]
  },
  {
   "cell_type": "code",
   "execution_count": null,
   "metadata": {},
   "outputs": [],
   "source": []
  }
 ],
 "metadata": {
  "kernelspec": {
   "display_name": "Python 3",
   "language": "python",
   "name": "python3"
  },
  "language_info": {
   "codemirror_mode": {
    "name": "ipython",
    "version": 3
   },
   "file_extension": ".py",
   "mimetype": "text/x-python",
   "name": "python",
   "nbconvert_exporter": "python",
   "pygments_lexer": "ipython3",
   "version": "3.8.3"
  }
 },
 "nbformat": 4,
 "nbformat_minor": 4
}
